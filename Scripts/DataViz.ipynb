{
 "cells": [
  {
   "cell_type": "code",
   "execution_count": 4,
   "metadata": {},
   "outputs": [],
   "source": [
    "#Document qui vise à explorer le dataset de la base de données de KBO\n",
    "\n",
    "#Importation des librairies\n",
    "import os\n",
    "import pandas as pd\n",
    "import numpy as np\n",
    "import matplotlib.pyplot as plt\n",
    "import seaborn as sns\n"
   ]
  },
  {
   "cell_type": "code",
   "execution_count": 6,
   "metadata": {},
   "outputs": [],
   "source": [
    "# Chemin relatif vers le dossier de données\n",
    "data_dir = os.path.join('..', '..', 'data')\n",
    "\n",
    "# Chemins complets vers chaque fichier CSV\n",
    "activity_path = os.path.join(data_dir, 'activity.csv')\n",
    "address_path = os.path.join(data_dir, 'address.csv')\n",
    "branch_path = os.path.join(data_dir, 'branch.csv')\n",
    "code_path = os.path.join(data_dir, 'code.csv')\n",
    "contact_path = os.path.join(data_dir, 'contact.csv')\n",
    "denomination_path = os.path.join(data_dir, 'denomination.csv')\n",
    "enterprise_path = os.path.join(data_dir, 'enterprise.csv')\n",
    "establishment_path = os.path.join(data_dir, 'establishment.csv')\n",
    "meta_path = os.path.join(data_dir, 'meta.csv')"
   ]
  },
  {
   "cell_type": "code",
   "execution_count": 7,
   "metadata": {},
   "outputs": [
    {
     "name": "stderr",
     "output_type": "stream",
     "text": [
      "C:\\Users\\Nawfel\\AppData\\Local\\Temp\\ipykernel_30320\\122633595.py:3: DtypeWarning: Columns (2,3,4) have mixed types. Specify dtype option on import or set low_memory=False.\n",
      "  address_df = pd.read_csv(address_path)\n"
     ]
    }
   ],
   "source": [
    "# Chargement des datasets\n",
    "activity_df = pd.read_csv(activity_path)\n",
    "address_df = pd.read_csv(address_path)\n",
    "branch_df = pd.read_csv(branch_path)\n",
    "code_df = pd.read_csv(code_path)\n",
    "contact_df = pd.read_csv(contact_path)\n",
    "denomination_df = pd.read_csv(denomination_path)\n",
    "enterprise_df = pd.read_csv(enterprise_path)\n",
    "establishment_df = pd.read_csv(establishment_path)\n",
    "meta_df = pd.read_csv(meta_path)"
   ]
  },
  {
   "cell_type": "code",
   "execution_count": 8,
   "metadata": {},
   "outputs": [
    {
     "name": "stdout",
     "output_type": "stream",
     "text": [
      "Activity Dataset:\n",
      "   EntityNumber  ActivityGroup  NaceVersion  NaceCode Classification\n",
      "0  0200.065.765              6         2008     84130           MAIN\n",
      "1  0200.065.765              1         2008     41101           MAIN\n",
      "2  0200.065.765              1         2003     70111           MAIN\n",
      "3  0200.068.636              6         2008     36000           MAIN\n",
      "4  0200.068.636              1         2008     36000           MAIN\n",
      "\n",
      "Address Dataset:\n",
      "   EntityNumber TypeOfAddress CountryNL CountryFR Zipcode  \\\n",
      "0  0200.065.765          REGO       NaN       NaN    9070   \n",
      "1  0200.068.636          REGO       NaN       NaN    9000   \n",
      "2  0200.171.970          REGO       NaN       NaN    9000   \n",
      "3  0200.245.711          REGO       NaN       NaN    9500   \n",
      "4  0200.305.493          REGO       NaN       NaN    9520   \n",
      "\n",
      "        MunicipalityNL       MunicipalityFR        StreetNL        StreetFR  \\\n",
      "0         Destelbergen         Destelbergen   Panhuisstraat   Panhuisstraat   \n",
      "1                 Gent                 Gent     Stropstraat     Stropstraat   \n",
      "2                 Gent                 Gent      Brabantdam      Brabantdam   \n",
      "3       Geraardsbergen       Geraardsbergen  Hoge Buizemont  Hoge Buizemont   \n",
      "4  Sint-Lievens-Houtem  Sint-Lievens-Houtem  Gentsesteenweg  Gentsesteenweg   \n",
      "\n",
      "  HouseNumber  Box ExtraAddressInfo DateStrikingOff  \n",
      "0           1  NaN              NaN             NaN  \n",
      "1           1  NaN              NaN             NaN  \n",
      "2         101  NaN              NaN             NaN  \n",
      "3         247  NaN              NaN             NaN  \n",
      "4          1B  NaN              NaN             NaN  \n",
      "\n",
      "Branch Dataset:\n",
      "              Id   StartDate EnterpriseNumber\n",
      "0  9.000.006.626  01-09-1995     0257.883.408\n",
      "1  9.000.008.210  01-01-1968     0400.051.358\n",
      "2  9.000.008.705  01-01-1968     0400.067.095\n",
      "3  9.000.009.594  01-01-1968     0400.150.140\n",
      "4  9.000.011.574  30-04-1963     0400.291.680\n",
      "\n",
      "Code Dataset:\n",
      "        Category Code Language        Description\n",
      "0  ActivityGroup  001       FR      Activités TVA\n",
      "1  ActivityGroup  001       NL   BTW-activiteiten\n",
      "2  ActivityGroup  002       FR     Activités EDRL\n",
      "3  ActivityGroup  002       NL  EDRL-activiteiten\n",
      "4  ActivityGroup  003       FR          Activités\n",
      "\n",
      "Contact Dataset:\n",
      "   EntityNumber EntityContact ContactType                       Value\n",
      "0  0200.362.210           ENT       EMAIL    officiel.ic-inbw@inbw.be\n",
      "1  0200.362.408           ENT         TEL                02 315 13 51\n",
      "2  0200.362.408           ENT       EMAIL                info@isbw.be\n",
      "3  0201.105.843           ENT       EMAIL    officiel.ic-idea@idea.be\n",
      "4  0201.107.922           ENT       EMAIL  officiel.ic-irsia@irsia.be\n",
      "\n",
      "Denomination Dataset:\n",
      "   EntityNumber  Language  TypeOfDenomination  \\\n",
      "0  0200.065.765         2                   1   \n",
      "1  0200.065.765         2                   2   \n",
      "2  0200.068.636         2                   1   \n",
      "3  0200.171.970         0                   1   \n",
      "4  0200.245.711         2                   1   \n",
      "\n",
      "                           Denomination  \n",
      "0  Intergemeentelijke Vereniging Veneco  \n",
      "1                                Veneco  \n",
      "2                                 Farys  \n",
      "3     Sanatorium-Hospitaal van Lemberge  \n",
      "4  Intercommunaal Sanatorium Denderoord  \n",
      "\n",
      "Enterprise Dataset:\n",
      "  EnterpriseNumber Status  JuridicalSituation  TypeOfEnterprise  \\\n",
      "0     0200.065.765     AC                   0                 2   \n",
      "1     0200.068.636     AC                   0                 2   \n",
      "2     0200.171.970     AC                   0                 2   \n",
      "3     0200.245.711     AC                  12                 2   \n",
      "4     0200.305.493     AC                   0                 2   \n",
      "\n",
      "   JuridicalForm  JuridicalFormCAC   StartDate  \n",
      "0          416.0               NaN  09-08-1960  \n",
      "1          417.0               NaN  16-02-1923  \n",
      "2          116.0               NaN  01-01-1968  \n",
      "3          116.0               NaN  01-01-1922  \n",
      "4          416.0               NaN  19-03-1962  \n",
      "\n",
      "Establishment Dataset:\n",
      "  EstablishmentNumber   StartDate EnterpriseNumber\n",
      "0       2.000.000.339  01-11-1974     0403.449.823\n",
      "1       2.000.000.438  01-09-1964     0403.590.274\n",
      "2       2.000.001.032  17-01-1967     0403.174.758\n",
      "3       2.000.002.022  01-04-1963     0401.729.854\n",
      "4       2.000.003.606  01-07-1964     0403.813.275\n",
      "\n",
      "Meta Dataset:\n",
      "           Variable                Value\n",
      "0      SnapshotDate           04-07-2024\n",
      "1  ExtractTimestamp  07-07-2024 06:15:17\n",
      "2       ExtractType                 full\n",
      "3     ExtractNumber                  125\n",
      "4           Version                1.0.0\n"
     ]
    }
   ],
   "source": [
    "# Afficher les premières lignes de chaque dataset pour vérifier qu'ils sont chargés correctement\n",
    "print(\"Activity Dataset:\")\n",
    "print(activity_df.head())\n",
    "\n",
    "print(\"\\nAddress Dataset:\")\n",
    "print(address_df.head())\n",
    "\n",
    "print(\"\\nBranch Dataset:\")\n",
    "print(branch_df.head())\n",
    "\n",
    "print(\"\\nCode Dataset:\")\n",
    "print(code_df.head())\n",
    "\n",
    "print(\"\\nContact Dataset:\")\n",
    "print(contact_df.head())\n",
    "\n",
    "print(\"\\nDenomination Dataset:\")\n",
    "print(denomination_df.head())\n",
    "\n",
    "print(\"\\nEnterprise Dataset:\")\n",
    "print(enterprise_df.head())\n",
    "\n",
    "print(\"\\nEstablishment Dataset:\")\n",
    "print(establishment_df.head())\n",
    "\n",
    "print(\"\\nMeta Dataset:\")\n",
    "print(meta_df.head())"
   ]
  },
  {
   "cell_type": "code",
   "execution_count": 9,
   "metadata": {},
   "outputs": [
    {
     "name": "stdout",
     "output_type": "stream",
     "text": [
      "{'activities': [{'NaceCode': 84130, 'Classification': 'MAIN'}, {'NaceCode': 41101, 'Classification': 'MAIN'}, {'NaceCode': 70111, 'Classification': 'MAIN'}], 'addresses': [{'TypeOfAddress': 'REGO', 'CountryNL': nan, 'Zipcode': '9070', 'MunicipalityNL': 'Destelbergen', 'StreetNL': 'Panhuisstraat', 'HouseNumber': '1'}], 'branches': [], 'contacts': [], 'denomination': [{'Language': 2, 'Denomination': 'Intergemeentelijke Vereniging Veneco'}, {'Language': 2, 'Denomination': 'Veneco'}], 'enterprise': {'EnterpriseNumber': '0200.065.765', 'Status': 'AC', 'JuridicalSituation': 0, 'TypeOfEnterprise': 2, 'JuridicalForm': 416.0, 'JuridicalFormCAC': nan, 'StartDate': '09-08-1960'}, 'establishments': [{'EstablishmentNumber': '2.251.273.097', 'StartDate': '01-12-2015'}]}\n"
     ]
    }
   ],
   "source": [
    "\n",
    "# Fonction pour obtenir les informations de base d'une entreprise\n",
    "def get_company_info(entity_number):\n",
    "    company_info = {}\n",
    "    \n",
    "    # Activités\n",
    "    activities = activity_df[activity_df['EntityNumber'] == entity_number]\n",
    "    company_info['activities'] = activities[['NaceCode', 'Classification']].to_dict(orient='records')\n",
    "    \n",
    "    # Adresse\n",
    "    addresses = address_df[address_df['EntityNumber'] == entity_number]\n",
    "    company_info['addresses'] = addresses[['TypeOfAddress', 'CountryNL', 'Zipcode', 'MunicipalityNL', 'StreetNL', 'HouseNumber']].to_dict(orient='records')\n",
    "    \n",
    "    # Branches\n",
    "    branches = branch_df[branch_df['EnterpriseNumber'] == entity_number]\n",
    "    company_info['branches'] = branches[['Id', 'StartDate']].to_dict(orient='records')\n",
    "    \n",
    "    # Contacts\n",
    "    contacts = contact_df[contact_df['EntityNumber'] == entity_number]\n",
    "    company_info['contacts'] = contacts[['ContactType', 'Value']].to_dict(orient='records')\n",
    "    \n",
    "    # Dénomination\n",
    "    denomination = denomination_df[denomination_df['EntityNumber'] == entity_number]\n",
    "    company_info['denomination'] = denomination[['Language', 'Denomination']].to_dict(orient='records')\n",
    "    \n",
    "    # Entreprise\n",
    "    enterprise = enterprise_df[enterprise_df['EnterpriseNumber'] == entity_number]\n",
    "    if not enterprise.empty:\n",
    "        company_info['enterprise'] = enterprise.iloc[0].to_dict()\n",
    "    \n",
    "    # Établissements\n",
    "    establishments = establishment_df[establishment_df['EnterpriseNumber'] == entity_number]\n",
    "    company_info['establishments'] = establishments[['EstablishmentNumber', 'StartDate']].to_dict(orient='records')\n",
    "    \n",
    "    return company_info\n",
    "\n",
    "# Exemple d'utilisation\n",
    "entity_number = '0200.065.765'\n",
    "company_info = get_company_info(entity_number)\n",
    "print(company_info)"
   ]
  },
  {
   "cell_type": "code",
   "execution_count": 10,
   "metadata": {},
   "outputs": [
    {
     "data": {
      "image/png": "[encoded data removed]",
      "text/plain": [
       "<Figure size 1000x600 with 1 Axes>"
      ]
     },
     "metadata": {},
     "output_type": "display_data"
    },
    {
     "data": {
      "image/png": "[encoded data removed]",
      "text/plain": [
       "<Figure size 1000x600 with 1 Axes>"
      ]
     },
     "metadata": {},
     "output_type": "display_data"
    }
   ],
   "source": []
  }
 ],
 "metadata": {
  "kernelspec": {
   "display_name": "Python 3",
   "language": "python",
   "name": "python3"
  },
  "language_info": {
   "codemirror_mode": {
    "name": "ipython",
    "version": 3
   },
   "file_extension": ".py",
   "mimetype": "text/x-python",
   "name": "python",
   "nbconvert_exporter": "python",
   "pygments_lexer": "ipython3",
   "version": "3.12.4"
  }
 },
 "nbformat": 4,
 "nbformat_minor": 2
}
